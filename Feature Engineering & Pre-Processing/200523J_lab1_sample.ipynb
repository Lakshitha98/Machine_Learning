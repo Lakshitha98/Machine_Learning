{
  "cells": [
    {
      "cell_type": "code",
      "execution_count": 105,
      "id": "4aa3eb9a-dc92-4359-9c9e-c8df7b6091d6",
      "metadata": {
        "id": "4aa3eb9a-dc92-4359-9c9e-c8df7b6091d6"
      },
      "outputs": [],
      "source": [
        "import numpy as np\n",
        "import pandas as pd\n",
        "import matplotlib.pyplot as plt"
      ]
    },
    {
      "cell_type": "code",
      "execution_count": 106,
      "id": "ec9f62c8-5b76-4436-9338-acbc4d5584dc",
      "metadata": {
        "id": "ec9f62c8-5b76-4436-9338-acbc4d5584dc"
      },
      "outputs": [],
      "source": [
        "from sklearn.linear_model import LinearRegression\n",
        "from sklearn.linear_model import LogisticRegression\n",
        "from sklearn.metrics import mean_squared_error,r2_score\n",
        "from sklearn.feature_selection import mutual_info_regression\n",
        "from sklearn.metrics import accuracy_score, classification_report\n",
        "from sklearn.metrics import mean_squared_error\n",
        "from sklearn.impute import SimpleImputer"
      ]
    },
    {
      "cell_type": "code",
      "source": [
        "from google.colab import drive\n",
        "drive.mount('/content/drive')"
      ],
      "metadata": {
        "colab": {
          "base_uri": "https://localhost:8080/"
        },
        "id": "zj_ChTDA44Bk",
        "outputId": "723971ce-e22c-4e17-95a0-e1ffa55eec02"
      },
      "id": "zj_ChTDA44Bk",
      "execution_count": 107,
      "outputs": [
        {
          "output_type": "stream",
          "name": "stdout",
          "text": [
            "Drive already mounted at /content/drive; to attempt to forcibly remount, call drive.mount(\"/content/drive\", force_remount=True).\n"
          ]
        }
      ]
    },
    {
      "cell_type": "code",
      "execution_count": 108,
      "id": "e49c26f4-249e-4026-9084-e173c09d9d0f",
      "metadata": {
        "id": "e49c26f4-249e-4026-9084-e173c09d9d0f"
      },
      "outputs": [],
      "source": [
        "df1 = pd.read_csv('/content/drive/MyDrive/Lab1/200523J_lab1_train.csv')\n",
        "df2 = pd.read_csv('/content/drive/MyDrive/Lab1/200523J_lab1_test.csv')\n",
        "df3 = pd.read_csv('/content/drive/MyDrive/Lab1/expected.csv')"
      ]
    },
    {
      "cell_type": "code",
      "execution_count": 109,
      "id": "f9fb9ee9-5247-4f45-96f9-3aad075dd226",
      "metadata": {
        "id": "f9fb9ee9-5247-4f45-96f9-3aad075dd226"
      },
      "outputs": [],
      "source": [
        "df1_x = df1.drop(columns=[\"y\"])\n",
        "df1_y = df1[\"y\"]"
      ]
    },
    {
      "cell_type": "code",
      "execution_count": 110,
      "id": "0a288e49-8bde-4077-b076-a4982e022396",
      "metadata": {
        "id": "0a288e49-8bde-4077-b076-a4982e022396"
      },
      "outputs": [],
      "source": [
        "df2_x = df2\n",
        "df2_y = df3[\"y\"]"
      ]
    },
    {
      "cell_type": "code",
      "source": [
        "df1_x = df1_x.fillna(np.nan)\n",
        "df1_y = df1_y.fillna(np.nan)"
      ],
      "metadata": {
        "id": "86n28iql8EZx"
      },
      "id": "86n28iql8EZx",
      "execution_count": 111,
      "outputs": []
    },
    {
      "cell_type": "code",
      "source": [
        "df2_x.isnull().sum()"
      ],
      "metadata": {
        "colab": {
          "base_uri": "https://localhost:8080/"
        },
        "id": "2VyQ2xoI8QQ5",
        "outputId": "344f63e4-cbfb-4ca0-a20f-9eeaa19ba593"
      },
      "id": "2VyQ2xoI8QQ5",
      "execution_count": 112,
      "outputs": [
        {
          "output_type": "execute_result",
          "data": {
            "text/plain": [
              "x1      7\n",
              "x2      2\n",
              "x3     14\n",
              "x4      0\n",
              "x5     15\n",
              "x6      6\n",
              "x7      6\n",
              "x8     13\n",
              "x9      2\n",
              "x10     4\n",
              "x11     0\n",
              "x12     3\n",
              "x13     0\n",
              "x14     0\n",
              "x15    39\n",
              "dtype: int64"
            ]
          },
          "metadata": {},
          "execution_count": 112
        }
      ]
    },
    {
      "cell_type": "code",
      "source": [
        "for column in df1_x.columns:\n",
        "    df1_x[column].fillna(df1_x[column].median(),inplace=True)\n",
        "    df2_x[column].fillna(df2_x[column].median(),inplace=True)"
      ],
      "metadata": {
        "id": "qFs6we3L85Pu"
      },
      "id": "qFs6we3L85Pu",
      "execution_count": 113,
      "outputs": []
    },
    {
      "cell_type": "code",
      "execution_count": 114,
      "id": "6f420886-4518-432a-90a3-90269625fcd5",
      "metadata": {
        "colab": {
          "base_uri": "https://localhost:8080/",
          "height": 213
        },
        "id": "6f420886-4518-432a-90a3-90269625fcd5",
        "outputId": "211aa33a-1e19-449c-e1a8-79e1edfb037a"
      },
      "outputs": [
        {
          "output_type": "stream",
          "name": "stderr",
          "text": [
            "/usr/local/lib/python3.9/dist-packages/sklearn/linear_model/_logistic.py:458: ConvergenceWarning: lbfgs failed to converge (status=1):\n",
            "STOP: TOTAL NO. of ITERATIONS REACHED LIMIT.\n",
            "\n",
            "Increase the number of iterations (max_iter) or scale the data as shown in:\n",
            "    https://scikit-learn.org/stable/modules/preprocessing.html\n",
            "Please also refer to the documentation for alternative solver options:\n",
            "    https://scikit-learn.org/stable/modules/linear_model.html#logistic-regression\n",
            "  n_iter_i = _check_optimize_result(\n"
          ]
        },
        {
          "output_type": "execute_result",
          "data": {
            "text/plain": [
              "LogisticRegression()"
            ],
            "text/html": [
              "<style>#sk-container-id-6 {color: black;background-color: white;}#sk-container-id-6 pre{padding: 0;}#sk-container-id-6 div.sk-toggleable {background-color: white;}#sk-container-id-6 label.sk-toggleable__label {cursor: pointer;display: block;width: 100%;margin-bottom: 0;padding: 0.3em;box-sizing: border-box;text-align: center;}#sk-container-id-6 label.sk-toggleable__label-arrow:before {content: \"▸\";float: left;margin-right: 0.25em;color: #696969;}#sk-container-id-6 label.sk-toggleable__label-arrow:hover:before {color: black;}#sk-container-id-6 div.sk-estimator:hover label.sk-toggleable__label-arrow:before {color: black;}#sk-container-id-6 div.sk-toggleable__content {max-height: 0;max-width: 0;overflow: hidden;text-align: left;background-color: #f0f8ff;}#sk-container-id-6 div.sk-toggleable__content pre {margin: 0.2em;color: black;border-radius: 0.25em;background-color: #f0f8ff;}#sk-container-id-6 input.sk-toggleable__control:checked~div.sk-toggleable__content {max-height: 200px;max-width: 100%;overflow: auto;}#sk-container-id-6 input.sk-toggleable__control:checked~label.sk-toggleable__label-arrow:before {content: \"▾\";}#sk-container-id-6 div.sk-estimator input.sk-toggleable__control:checked~label.sk-toggleable__label {background-color: #d4ebff;}#sk-container-id-6 div.sk-label input.sk-toggleable__control:checked~label.sk-toggleable__label {background-color: #d4ebff;}#sk-container-id-6 input.sk-hidden--visually {border: 0;clip: rect(1px 1px 1px 1px);clip: rect(1px, 1px, 1px, 1px);height: 1px;margin: -1px;overflow: hidden;padding: 0;position: absolute;width: 1px;}#sk-container-id-6 div.sk-estimator {font-family: monospace;background-color: #f0f8ff;border: 1px dotted black;border-radius: 0.25em;box-sizing: border-box;margin-bottom: 0.5em;}#sk-container-id-6 div.sk-estimator:hover {background-color: #d4ebff;}#sk-container-id-6 div.sk-parallel-item::after {content: \"\";width: 100%;border-bottom: 1px solid gray;flex-grow: 1;}#sk-container-id-6 div.sk-label:hover label.sk-toggleable__label {background-color: #d4ebff;}#sk-container-id-6 div.sk-serial::before {content: \"\";position: absolute;border-left: 1px solid gray;box-sizing: border-box;top: 0;bottom: 0;left: 50%;z-index: 0;}#sk-container-id-6 div.sk-serial {display: flex;flex-direction: column;align-items: center;background-color: white;padding-right: 0.2em;padding-left: 0.2em;position: relative;}#sk-container-id-6 div.sk-item {position: relative;z-index: 1;}#sk-container-id-6 div.sk-parallel {display: flex;align-items: stretch;justify-content: center;background-color: white;position: relative;}#sk-container-id-6 div.sk-item::before, #sk-container-id-6 div.sk-parallel-item::before {content: \"\";position: absolute;border-left: 1px solid gray;box-sizing: border-box;top: 0;bottom: 0;left: 50%;z-index: -1;}#sk-container-id-6 div.sk-parallel-item {display: flex;flex-direction: column;z-index: 1;position: relative;background-color: white;}#sk-container-id-6 div.sk-parallel-item:first-child::after {align-self: flex-end;width: 50%;}#sk-container-id-6 div.sk-parallel-item:last-child::after {align-self: flex-start;width: 50%;}#sk-container-id-6 div.sk-parallel-item:only-child::after {width: 0;}#sk-container-id-6 div.sk-dashed-wrapped {border: 1px dashed gray;margin: 0 0.4em 0.5em 0.4em;box-sizing: border-box;padding-bottom: 0.4em;background-color: white;}#sk-container-id-6 div.sk-label label {font-family: monospace;font-weight: bold;display: inline-block;line-height: 1.2em;}#sk-container-id-6 div.sk-label-container {text-align: center;}#sk-container-id-6 div.sk-container {/* jupyter's `normalize.less` sets `[hidden] { display: none; }` but bootstrap.min.css set `[hidden] { display: none !important; }` so we also need the `!important` here to be able to override the default hidden behavior on the sphinx rendered scikit-learn.org. See: https://github.com/scikit-learn/scikit-learn/issues/21755 */display: inline-block !important;position: relative;}#sk-container-id-6 div.sk-text-repr-fallback {display: none;}</style><div id=\"sk-container-id-6\" class=\"sk-top-container\"><div class=\"sk-text-repr-fallback\"><pre>LogisticRegression()</pre><b>In a Jupyter environment, please rerun this cell to show the HTML representation or trust the notebook. <br />On GitHub, the HTML representation is unable to render, please try loading this page with nbviewer.org.</b></div><div class=\"sk-container\" hidden><div class=\"sk-item\"><div class=\"sk-estimator sk-toggleable\"><input class=\"sk-toggleable__control sk-hidden--visually\" id=\"sk-estimator-id-6\" type=\"checkbox\" checked><label for=\"sk-estimator-id-6\" class=\"sk-toggleable__label sk-toggleable__label-arrow\">LogisticRegression</label><div class=\"sk-toggleable__content\"><pre>LogisticRegression()</pre></div></div></div></div></div>"
            ]
          },
          "metadata": {},
          "execution_count": 114
        }
      ],
      "source": [
        "#lr = LinearRegression()\n",
        "lr = LogisticRegression()\n",
        "lr.fit(df1_x,df1_y)"
      ]
    },
    {
      "cell_type": "code",
      "execution_count": 115,
      "id": "7686f6cf-6138-4964-8a24-ef5e3305e3da",
      "metadata": {
        "colab": {
          "base_uri": "https://localhost:8080/"
        },
        "id": "7686f6cf-6138-4964-8a24-ef5e3305e3da",
        "outputId": "9d23c249-add1-47e1-a0fa-899d99f7af1c"
      },
      "outputs": [
        {
          "output_type": "execute_result",
          "data": {
            "text/plain": [
              "0.7831546707503828"
            ]
          },
          "metadata": {},
          "execution_count": 115
        }
      ],
      "source": [
        "df1_y_p=lr.predict(df1_x)\n",
        "mean_squared_error(df1_y,df1_y_p)"
      ]
    },
    {
      "cell_type": "code",
      "execution_count": 116,
      "id": "66abec2d-a64e-49b9-90f5-f85017f94e8b",
      "metadata": {
        "id": "66abec2d-a64e-49b9-90f5-f85017f94e8b"
      },
      "outputs": [],
      "source": [
        "y_pred=lr.predict(df2_x)"
      ]
    },
    {
      "cell_type": "code",
      "execution_count": 117,
      "id": "bab63f2d-04fe-40b7-a8aa-efcb26e65024",
      "metadata": {
        "colab": {
          "base_uri": "https://localhost:8080/"
        },
        "id": "bab63f2d-04fe-40b7-a8aa-efcb26e65024",
        "outputId": "29ae72d8-318f-4db4-cd12-619f869e60b0"
      },
      "outputs": [
        {
          "output_type": "execute_result",
          "data": {
            "text/plain": [
              "-0.21537946107353578"
            ]
          },
          "metadata": {},
          "execution_count": 117
        }
      ],
      "source": [
        "r2_score(df2_y,y_pred)"
      ]
    },
    {
      "cell_type": "code",
      "execution_count": 118,
      "id": "e66ad1ae-7416-44d0-8ffb-7cf8609e7971",
      "metadata": {
        "colab": {
          "base_uri": "https://localhost:8080/"
        },
        "id": "e66ad1ae-7416-44d0-8ffb-7cf8609e7971",
        "outputId": "2c73501a-cff8-4d14-e6ea-47fdf68a365e"
      },
      "outputs": [
        {
          "output_type": "execute_result",
          "data": {
            "text/plain": [
              "1.0134721371708513"
            ]
          },
          "metadata": {},
          "execution_count": 118
        }
      ],
      "source": [
        "mean_squared_error(df2_y,y_pred)"
      ]
    },
    {
      "cell_type": "code",
      "execution_count": 119,
      "id": "c4bd87e8-b1d6-489b-b8cf-5b64168e755c",
      "metadata": {
        "colab": {
          "base_uri": "https://localhost:8080/"
        },
        "id": "c4bd87e8-b1d6-489b-b8cf-5b64168e755c",
        "outputId": "73a182e9-1843-4000-d3d0-fc23a7f0c4a7"
      },
      "outputs": [
        {
          "output_type": "execute_result",
          "data": {
            "text/plain": [
              "1.0067135328239365"
            ]
          },
          "metadata": {},
          "execution_count": 119
        }
      ],
      "source": [
        "rmse = np.sqrt(mean_squared_error(df2_y,y_pred))\n",
        "rmse"
      ]
    },
    {
      "cell_type": "markdown",
      "source": [
        "Find missing rows\n",
        "let's check are there more than 5 missed rows. "
      ],
      "metadata": {
        "id": "e6gnH51rUWrG"
      },
      "id": "e6gnH51rUWrG"
    },
    {
      "cell_type": "code",
      "source": [
        "df1_x.shape"
      ],
      "metadata": {
        "colab": {
          "base_uri": "https://localhost:8080/"
        },
        "id": "lf981XtvUaIW",
        "outputId": "1c0bce09-119f-4466-d6de-24d877496f4f"
      },
      "id": "lf981XtvUaIW",
      "execution_count": 120,
      "outputs": [
        {
          "output_type": "execute_result",
          "data": {
            "text/plain": [
              "(3265, 15)"
            ]
          },
          "metadata": {},
          "execution_count": 120
        }
      ]
    },
    {
      "cell_type": "code",
      "source": [
        "missing_row = df1_x.isna().sum(axis='columns')\n",
        "df_missing_rows = df1_x[missing_row < 5].copy()\n",
        "df_missing_rows.shape "
      ],
      "metadata": {
        "colab": {
          "base_uri": "https://localhost:8080/"
        },
        "id": "S7F9MtRuVl1C",
        "outputId": "23a3c40a-12f9-4fd3-c048-c9ed78fe198c"
      },
      "id": "S7F9MtRuVl1C",
      "execution_count": 121,
      "outputs": [
        {
          "output_type": "execute_result",
          "data": {
            "text/plain": [
              "(3265, 15)"
            ]
          },
          "metadata": {},
          "execution_count": 121
        }
      ]
    },
    {
      "cell_type": "code",
      "source": [
        "df2_x.shape"
      ],
      "metadata": {
        "colab": {
          "base_uri": "https://localhost:8080/"
        },
        "id": "vm1jX-gfWjk-",
        "outputId": "63d281d4-ff14-4782-ff91-ef06b1fcafe0"
      },
      "id": "vm1jX-gfWjk-",
      "execution_count": 122,
      "outputs": [
        {
          "output_type": "execute_result",
          "data": {
            "text/plain": [
              "(1633, 15)"
            ]
          },
          "metadata": {},
          "execution_count": 122
        }
      ]
    },
    {
      "cell_type": "code",
      "source": [
        "missing_row = df2_x.isna().sum(axis='columns')\n",
        "df_missing_rows = df2_x[missing_row < 5].copy()\n",
        "df_missing_rows.shape "
      ],
      "metadata": {
        "colab": {
          "base_uri": "https://localhost:8080/"
        },
        "id": "5SBHbRphWHRo",
        "outputId": "495762a5-e130-4d79-dbdd-c9377096db38"
      },
      "id": "5SBHbRphWHRo",
      "execution_count": 123,
      "outputs": [
        {
          "output_type": "execute_result",
          "data": {
            "text/plain": [
              "(1633, 15)"
            ]
          },
          "metadata": {},
          "execution_count": 123
        }
      ]
    },
    {
      "cell_type": "markdown",
      "source": [
        "there are no missing rows like mentioned above..so no need to drop rows"
      ],
      "metadata": {
        "id": "MaXn1BAVWob8"
      },
      "id": "MaXn1BAVWob8"
    },
    {
      "cell_type": "markdown",
      "source": [
        "replace missed value to median"
      ],
      "metadata": {
        "id": "9Jlh9tZaXxzl"
      },
      "id": "9Jlh9tZaXxzl"
    },
    {
      "cell_type": "code",
      "source": [
        "imputer = SimpleImputer(strategy='median')\n",
        "df1_x = pd.DataFrame(imputer.fit_transform(df1_x), columns=df1_x.columns)\n",
        "testX = pd.DataFrame(imputer.transform(df2_x), columns=df2_x.columns)"
      ],
      "metadata": {
        "id": "o-jhwQYtXwGZ"
      },
      "id": "o-jhwQYtXwGZ",
      "execution_count": 124,
      "outputs": []
    },
    {
      "cell_type": "code",
      "source": [
        "corelation_matrix = df1_x.corr()  # this is to find corelationship\n",
        "corelation_matrix"
      ],
      "metadata": {
        "colab": {
          "base_uri": "https://localhost:8080/",
          "height": 563
        },
        "id": "yQk1XuHO9c6g",
        "outputId": "ccaed4bd-d972-4cff-e882-0f57e08ac52e"
      },
      "id": "yQk1XuHO9c6g",
      "execution_count": 125,
      "outputs": [
        {
          "output_type": "execute_result",
          "data": {
            "text/plain": [
              "           x1        x2        x3        x4        x5        x6        x7  \\\n",
              "x1   1.000000 -0.021121  0.279425  0.093677  0.096410  0.014639  0.037139   \n",
              "x2  -0.021121  1.000000 -0.156836  0.080450  0.066842  0.038922  0.010418   \n",
              "x3   0.279425 -0.156836  1.000000  0.129294  0.091115  0.120643 -0.012840   \n",
              "x4   0.093677  0.080450  0.129294  1.000000  0.391992  0.211545  0.018986   \n",
              "x5   0.096410  0.066842  0.091115  0.391992  1.000000  0.079049  0.026932   \n",
              "x6   0.014639  0.038922  0.120643  0.211545  0.079049  1.000000 -0.006856   \n",
              "x7   0.037139  0.010418 -0.012840  0.018986  0.026932 -0.006856  1.000000   \n",
              "x8  -0.044516 -0.099574  0.102371  0.612543  0.287638  0.125710  0.008938   \n",
              "x9  -0.370714 -0.025244 -0.138348 -0.010431 -0.150410 -0.068676 -0.014915   \n",
              "x10 -0.021291  0.999638 -0.156515  0.080542  0.067281  0.039207  0.010428   \n",
              "x11  0.094186  0.079229  0.128660  0.995383  0.394299  0.212219  0.019062   \n",
              "x12  0.274435  0.022735  0.150550  0.519471  0.837429  0.253545  0.018002   \n",
              "x13 -0.425419 -0.038810 -0.156153 -0.006675 -0.185528 -0.080090 -0.017013   \n",
              "x14 -0.017004 -0.039680  0.052547  0.130734 -0.027999  0.000304  0.002411   \n",
              "x15 -0.128165  0.073611 -0.077524 -0.445159 -0.440477 -0.364327  0.010632   \n",
              "\n",
              "           x8        x9       x10       x11       x12       x13       x14  \\\n",
              "x1  -0.044516 -0.370714 -0.021291  0.094186  0.274435 -0.425419 -0.017004   \n",
              "x2  -0.099574 -0.025244  0.999638  0.079229  0.022735 -0.038810 -0.039680   \n",
              "x3   0.102371 -0.138348 -0.156515  0.128660  0.150550 -0.156153  0.052547   \n",
              "x4   0.612543 -0.010431  0.080542  0.995383  0.519471 -0.006675  0.130734   \n",
              "x5   0.287638 -0.150410  0.067281  0.394299  0.837429 -0.185528 -0.027999   \n",
              "x6   0.125710 -0.068676  0.039207  0.212219  0.253545 -0.080090  0.000304   \n",
              "x7   0.008938 -0.014915  0.010428  0.019062  0.018002 -0.017013  0.002411   \n",
              "x8   1.000000 -0.016068 -0.099617  0.615657  0.288871 -0.010349  0.056331   \n",
              "x9  -0.016068  1.000000 -0.025051 -0.008972 -0.076194  0.867715  0.133297   \n",
              "x10 -0.099617 -0.025051  1.000000  0.079324  0.023401 -0.038566 -0.039275   \n",
              "x11  0.615657 -0.008972  0.079324  1.000000  0.523743 -0.005053  0.129557   \n",
              "x12  0.288871 -0.076194  0.023401  0.523743  1.000000 -0.089608  0.072183   \n",
              "x13 -0.010349  0.867715 -0.038566 -0.005053 -0.089608  1.000000  0.151315   \n",
              "x14  0.056331  0.133297 -0.039275  0.129557  0.072183  0.151315  1.000000   \n",
              "x15 -0.256512  0.114384  0.072940 -0.450641 -0.762313  0.121774 -0.011678   \n",
              "\n",
              "          x15  \n",
              "x1  -0.128165  \n",
              "x2   0.073611  \n",
              "x3  -0.077524  \n",
              "x4  -0.445159  \n",
              "x5  -0.440477  \n",
              "x6  -0.364327  \n",
              "x7   0.010632  \n",
              "x8  -0.256512  \n",
              "x9   0.114384  \n",
              "x10  0.072940  \n",
              "x11 -0.450641  \n",
              "x12 -0.762313  \n",
              "x13  0.121774  \n",
              "x14 -0.011678  \n",
              "x15  1.000000  "
            ],
            "text/html": [
              "\n",
              "  <div id=\"df-c0e5a039-b107-4d9b-b20f-534703f20cff\">\n",
              "    <div class=\"colab-df-container\">\n",
              "      <div>\n",
              "<style scoped>\n",
              "    .dataframe tbody tr th:only-of-type {\n",
              "        vertical-align: middle;\n",
              "    }\n",
              "\n",
              "    .dataframe tbody tr th {\n",
              "        vertical-align: top;\n",
              "    }\n",
              "\n",
              "    .dataframe thead th {\n",
              "        text-align: right;\n",
              "    }\n",
              "</style>\n",
              "<table border=\"1\" class=\"dataframe\">\n",
              "  <thead>\n",
              "    <tr style=\"text-align: right;\">\n",
              "      <th></th>\n",
              "      <th>x1</th>\n",
              "      <th>x2</th>\n",
              "      <th>x3</th>\n",
              "      <th>x4</th>\n",
              "      <th>x5</th>\n",
              "      <th>x6</th>\n",
              "      <th>x7</th>\n",
              "      <th>x8</th>\n",
              "      <th>x9</th>\n",
              "      <th>x10</th>\n",
              "      <th>x11</th>\n",
              "      <th>x12</th>\n",
              "      <th>x13</th>\n",
              "      <th>x14</th>\n",
              "      <th>x15</th>\n",
              "    </tr>\n",
              "  </thead>\n",
              "  <tbody>\n",
              "    <tr>\n",
              "      <th>x1</th>\n",
              "      <td>1.000000</td>\n",
              "      <td>-0.021121</td>\n",
              "      <td>0.279425</td>\n",
              "      <td>0.093677</td>\n",
              "      <td>0.096410</td>\n",
              "      <td>0.014639</td>\n",
              "      <td>0.037139</td>\n",
              "      <td>-0.044516</td>\n",
              "      <td>-0.370714</td>\n",
              "      <td>-0.021291</td>\n",
              "      <td>0.094186</td>\n",
              "      <td>0.274435</td>\n",
              "      <td>-0.425419</td>\n",
              "      <td>-0.017004</td>\n",
              "      <td>-0.128165</td>\n",
              "    </tr>\n",
              "    <tr>\n",
              "      <th>x2</th>\n",
              "      <td>-0.021121</td>\n",
              "      <td>1.000000</td>\n",
              "      <td>-0.156836</td>\n",
              "      <td>0.080450</td>\n",
              "      <td>0.066842</td>\n",
              "      <td>0.038922</td>\n",
              "      <td>0.010418</td>\n",
              "      <td>-0.099574</td>\n",
              "      <td>-0.025244</td>\n",
              "      <td>0.999638</td>\n",
              "      <td>0.079229</td>\n",
              "      <td>0.022735</td>\n",
              "      <td>-0.038810</td>\n",
              "      <td>-0.039680</td>\n",
              "      <td>0.073611</td>\n",
              "    </tr>\n",
              "    <tr>\n",
              "      <th>x3</th>\n",
              "      <td>0.279425</td>\n",
              "      <td>-0.156836</td>\n",
              "      <td>1.000000</td>\n",
              "      <td>0.129294</td>\n",
              "      <td>0.091115</td>\n",
              "      <td>0.120643</td>\n",
              "      <td>-0.012840</td>\n",
              "      <td>0.102371</td>\n",
              "      <td>-0.138348</td>\n",
              "      <td>-0.156515</td>\n",
              "      <td>0.128660</td>\n",
              "      <td>0.150550</td>\n",
              "      <td>-0.156153</td>\n",
              "      <td>0.052547</td>\n",
              "      <td>-0.077524</td>\n",
              "    </tr>\n",
              "    <tr>\n",
              "      <th>x4</th>\n",
              "      <td>0.093677</td>\n",
              "      <td>0.080450</td>\n",
              "      <td>0.129294</td>\n",
              "      <td>1.000000</td>\n",
              "      <td>0.391992</td>\n",
              "      <td>0.211545</td>\n",
              "      <td>0.018986</td>\n",
              "      <td>0.612543</td>\n",
              "      <td>-0.010431</td>\n",
              "      <td>0.080542</td>\n",
              "      <td>0.995383</td>\n",
              "      <td>0.519471</td>\n",
              "      <td>-0.006675</td>\n",
              "      <td>0.130734</td>\n",
              "      <td>-0.445159</td>\n",
              "    </tr>\n",
              "    <tr>\n",
              "      <th>x5</th>\n",
              "      <td>0.096410</td>\n",
              "      <td>0.066842</td>\n",
              "      <td>0.091115</td>\n",
              "      <td>0.391992</td>\n",
              "      <td>1.000000</td>\n",
              "      <td>0.079049</td>\n",
              "      <td>0.026932</td>\n",
              "      <td>0.287638</td>\n",
              "      <td>-0.150410</td>\n",
              "      <td>0.067281</td>\n",
              "      <td>0.394299</td>\n",
              "      <td>0.837429</td>\n",
              "      <td>-0.185528</td>\n",
              "      <td>-0.027999</td>\n",
              "      <td>-0.440477</td>\n",
              "    </tr>\n",
              "    <tr>\n",
              "      <th>x6</th>\n",
              "      <td>0.014639</td>\n",
              "      <td>0.038922</td>\n",
              "      <td>0.120643</td>\n",
              "      <td>0.211545</td>\n",
              "      <td>0.079049</td>\n",
              "      <td>1.000000</td>\n",
              "      <td>-0.006856</td>\n",
              "      <td>0.125710</td>\n",
              "      <td>-0.068676</td>\n",
              "      <td>0.039207</td>\n",
              "      <td>0.212219</td>\n",
              "      <td>0.253545</td>\n",
              "      <td>-0.080090</td>\n",
              "      <td>0.000304</td>\n",
              "      <td>-0.364327</td>\n",
              "    </tr>\n",
              "    <tr>\n",
              "      <th>x7</th>\n",
              "      <td>0.037139</td>\n",
              "      <td>0.010418</td>\n",
              "      <td>-0.012840</td>\n",
              "      <td>0.018986</td>\n",
              "      <td>0.026932</td>\n",
              "      <td>-0.006856</td>\n",
              "      <td>1.000000</td>\n",
              "      <td>0.008938</td>\n",
              "      <td>-0.014915</td>\n",
              "      <td>0.010428</td>\n",
              "      <td>0.019062</td>\n",
              "      <td>0.018002</td>\n",
              "      <td>-0.017013</td>\n",
              "      <td>0.002411</td>\n",
              "      <td>0.010632</td>\n",
              "    </tr>\n",
              "    <tr>\n",
              "      <th>x8</th>\n",
              "      <td>-0.044516</td>\n",
              "      <td>-0.099574</td>\n",
              "      <td>0.102371</td>\n",
              "      <td>0.612543</td>\n",
              "      <td>0.287638</td>\n",
              "      <td>0.125710</td>\n",
              "      <td>0.008938</td>\n",
              "      <td>1.000000</td>\n",
              "      <td>-0.016068</td>\n",
              "      <td>-0.099617</td>\n",
              "      <td>0.615657</td>\n",
              "      <td>0.288871</td>\n",
              "      <td>-0.010349</td>\n",
              "      <td>0.056331</td>\n",
              "      <td>-0.256512</td>\n",
              "    </tr>\n",
              "    <tr>\n",
              "      <th>x9</th>\n",
              "      <td>-0.370714</td>\n",
              "      <td>-0.025244</td>\n",
              "      <td>-0.138348</td>\n",
              "      <td>-0.010431</td>\n",
              "      <td>-0.150410</td>\n",
              "      <td>-0.068676</td>\n",
              "      <td>-0.014915</td>\n",
              "      <td>-0.016068</td>\n",
              "      <td>1.000000</td>\n",
              "      <td>-0.025051</td>\n",
              "      <td>-0.008972</td>\n",
              "      <td>-0.076194</td>\n",
              "      <td>0.867715</td>\n",
              "      <td>0.133297</td>\n",
              "      <td>0.114384</td>\n",
              "    </tr>\n",
              "    <tr>\n",
              "      <th>x10</th>\n",
              "      <td>-0.021291</td>\n",
              "      <td>0.999638</td>\n",
              "      <td>-0.156515</td>\n",
              "      <td>0.080542</td>\n",
              "      <td>0.067281</td>\n",
              "      <td>0.039207</td>\n",
              "      <td>0.010428</td>\n",
              "      <td>-0.099617</td>\n",
              "      <td>-0.025051</td>\n",
              "      <td>1.000000</td>\n",
              "      <td>0.079324</td>\n",
              "      <td>0.023401</td>\n",
              "      <td>-0.038566</td>\n",
              "      <td>-0.039275</td>\n",
              "      <td>0.072940</td>\n",
              "    </tr>\n",
              "    <tr>\n",
              "      <th>x11</th>\n",
              "      <td>0.094186</td>\n",
              "      <td>0.079229</td>\n",
              "      <td>0.128660</td>\n",
              "      <td>0.995383</td>\n",
              "      <td>0.394299</td>\n",
              "      <td>0.212219</td>\n",
              "      <td>0.019062</td>\n",
              "      <td>0.615657</td>\n",
              "      <td>-0.008972</td>\n",
              "      <td>0.079324</td>\n",
              "      <td>1.000000</td>\n",
              "      <td>0.523743</td>\n",
              "      <td>-0.005053</td>\n",
              "      <td>0.129557</td>\n",
              "      <td>-0.450641</td>\n",
              "    </tr>\n",
              "    <tr>\n",
              "      <th>x12</th>\n",
              "      <td>0.274435</td>\n",
              "      <td>0.022735</td>\n",
              "      <td>0.150550</td>\n",
              "      <td>0.519471</td>\n",
              "      <td>0.837429</td>\n",
              "      <td>0.253545</td>\n",
              "      <td>0.018002</td>\n",
              "      <td>0.288871</td>\n",
              "      <td>-0.076194</td>\n",
              "      <td>0.023401</td>\n",
              "      <td>0.523743</td>\n",
              "      <td>1.000000</td>\n",
              "      <td>-0.089608</td>\n",
              "      <td>0.072183</td>\n",
              "      <td>-0.762313</td>\n",
              "    </tr>\n",
              "    <tr>\n",
              "      <th>x13</th>\n",
              "      <td>-0.425419</td>\n",
              "      <td>-0.038810</td>\n",
              "      <td>-0.156153</td>\n",
              "      <td>-0.006675</td>\n",
              "      <td>-0.185528</td>\n",
              "      <td>-0.080090</td>\n",
              "      <td>-0.017013</td>\n",
              "      <td>-0.010349</td>\n",
              "      <td>0.867715</td>\n",
              "      <td>-0.038566</td>\n",
              "      <td>-0.005053</td>\n",
              "      <td>-0.089608</td>\n",
              "      <td>1.000000</td>\n",
              "      <td>0.151315</td>\n",
              "      <td>0.121774</td>\n",
              "    </tr>\n",
              "    <tr>\n",
              "      <th>x14</th>\n",
              "      <td>-0.017004</td>\n",
              "      <td>-0.039680</td>\n",
              "      <td>0.052547</td>\n",
              "      <td>0.130734</td>\n",
              "      <td>-0.027999</td>\n",
              "      <td>0.000304</td>\n",
              "      <td>0.002411</td>\n",
              "      <td>0.056331</td>\n",
              "      <td>0.133297</td>\n",
              "      <td>-0.039275</td>\n",
              "      <td>0.129557</td>\n",
              "      <td>0.072183</td>\n",
              "      <td>0.151315</td>\n",
              "      <td>1.000000</td>\n",
              "      <td>-0.011678</td>\n",
              "    </tr>\n",
              "    <tr>\n",
              "      <th>x15</th>\n",
              "      <td>-0.128165</td>\n",
              "      <td>0.073611</td>\n",
              "      <td>-0.077524</td>\n",
              "      <td>-0.445159</td>\n",
              "      <td>-0.440477</td>\n",
              "      <td>-0.364327</td>\n",
              "      <td>0.010632</td>\n",
              "      <td>-0.256512</td>\n",
              "      <td>0.114384</td>\n",
              "      <td>0.072940</td>\n",
              "      <td>-0.450641</td>\n",
              "      <td>-0.762313</td>\n",
              "      <td>0.121774</td>\n",
              "      <td>-0.011678</td>\n",
              "      <td>1.000000</td>\n",
              "    </tr>\n",
              "  </tbody>\n",
              "</table>\n",
              "</div>\n",
              "      <button class=\"colab-df-convert\" onclick=\"convertToInteractive('df-c0e5a039-b107-4d9b-b20f-534703f20cff')\"\n",
              "              title=\"Convert this dataframe to an interactive table.\"\n",
              "              style=\"display:none;\">\n",
              "        \n",
              "  <svg xmlns=\"http://www.w3.org/2000/svg\" height=\"24px\"viewBox=\"0 0 24 24\"\n",
              "       width=\"24px\">\n",
              "    <path d=\"M0 0h24v24H0V0z\" fill=\"none\"/>\n",
              "    <path d=\"M18.56 5.44l.94 2.06.94-2.06 2.06-.94-2.06-.94-.94-2.06-.94 2.06-2.06.94zm-11 1L8.5 8.5l.94-2.06 2.06-.94-2.06-.94L8.5 2.5l-.94 2.06-2.06.94zm10 10l.94 2.06.94-2.06 2.06-.94-2.06-.94-.94-2.06-.94 2.06-2.06.94z\"/><path d=\"M17.41 7.96l-1.37-1.37c-.4-.4-.92-.59-1.43-.59-.52 0-1.04.2-1.43.59L10.3 9.45l-7.72 7.72c-.78.78-.78 2.05 0 2.83L4 21.41c.39.39.9.59 1.41.59.51 0 1.02-.2 1.41-.59l7.78-7.78 2.81-2.81c.8-.78.8-2.07 0-2.86zM5.41 20L4 18.59l7.72-7.72 1.47 1.35L5.41 20z\"/>\n",
              "  </svg>\n",
              "      </button>\n",
              "      \n",
              "  <style>\n",
              "    .colab-df-container {\n",
              "      display:flex;\n",
              "      flex-wrap:wrap;\n",
              "      gap: 12px;\n",
              "    }\n",
              "\n",
              "    .colab-df-convert {\n",
              "      background-color: #E8F0FE;\n",
              "      border: none;\n",
              "      border-radius: 50%;\n",
              "      cursor: pointer;\n",
              "      display: none;\n",
              "      fill: #1967D2;\n",
              "      height: 32px;\n",
              "      padding: 0 0 0 0;\n",
              "      width: 32px;\n",
              "    }\n",
              "\n",
              "    .colab-df-convert:hover {\n",
              "      background-color: #E2EBFA;\n",
              "      box-shadow: 0px 1px 2px rgba(60, 64, 67, 0.3), 0px 1px 3px 1px rgba(60, 64, 67, 0.15);\n",
              "      fill: #174EA6;\n",
              "    }\n",
              "\n",
              "    [theme=dark] .colab-df-convert {\n",
              "      background-color: #3B4455;\n",
              "      fill: #D2E3FC;\n",
              "    }\n",
              "\n",
              "    [theme=dark] .colab-df-convert:hover {\n",
              "      background-color: #434B5C;\n",
              "      box-shadow: 0px 1px 3px 1px rgba(0, 0, 0, 0.15);\n",
              "      filter: drop-shadow(0px 1px 2px rgba(0, 0, 0, 0.3));\n",
              "      fill: #FFFFFF;\n",
              "    }\n",
              "  </style>\n",
              "\n",
              "      <script>\n",
              "        const buttonEl =\n",
              "          document.querySelector('#df-c0e5a039-b107-4d9b-b20f-534703f20cff button.colab-df-convert');\n",
              "        buttonEl.style.display =\n",
              "          google.colab.kernel.accessAllowed ? 'block' : 'none';\n",
              "\n",
              "        async function convertToInteractive(key) {\n",
              "          const element = document.querySelector('#df-c0e5a039-b107-4d9b-b20f-534703f20cff');\n",
              "          const dataTable =\n",
              "            await google.colab.kernel.invokeFunction('convertToInteractive',\n",
              "                                                     [key], {});\n",
              "          if (!dataTable) return;\n",
              "\n",
              "          const docLinkHtml = 'Like what you see? Visit the ' +\n",
              "            '<a target=\"_blank\" href=https://colab.research.google.com/notebooks/data_table.ipynb>data table notebook</a>'\n",
              "            + ' to learn more about interactive tables.';\n",
              "          element.innerHTML = '';\n",
              "          dataTable['output_type'] = 'display_data';\n",
              "          await google.colab.output.renderOutput(dataTable, element);\n",
              "          const docLink = document.createElement('div');\n",
              "          docLink.innerHTML = docLinkHtml;\n",
              "          element.appendChild(docLink);\n",
              "        }\n",
              "      </script>\n",
              "    </div>\n",
              "  </div>\n",
              "  "
            ]
          },
          "metadata": {},
          "execution_count": 125
        }
      ]
    },
    {
      "cell_type": "code",
      "source": [
        "corelation_matrix = df2_x.corr()  # this is to find corelationship\n",
        "corelation_matrix"
      ],
      "metadata": {
        "colab": {
          "base_uri": "https://localhost:8080/",
          "height": 563
        },
        "id": "F2Kpw3Ad-Z0Q",
        "outputId": "d79d8775-b74e-47de-eab3-4cd20df4c828"
      },
      "id": "F2Kpw3Ad-Z0Q",
      "execution_count": 126,
      "outputs": [
        {
          "output_type": "execute_result",
          "data": {
            "text/plain": [
              "           x1        x2        x3        x4        x5        x6        x7  \\\n",
              "x1   1.000000 -0.026195  0.310847  0.084399  0.067013  0.042116  0.007028   \n",
              "x2  -0.026195  1.000000 -0.128227  0.110525  0.062203  0.132987 -0.002181   \n",
              "x3   0.310847 -0.128227  1.000000  0.105506  0.100570  0.102909  0.083424   \n",
              "x4   0.084399  0.110525  0.105506  1.000000  0.403602  0.172324  0.015674   \n",
              "x5   0.067013  0.062203  0.100570  0.403602  1.000000  0.104234  0.035278   \n",
              "x6   0.042116  0.132987  0.102909  0.172324  0.104234  1.000000 -0.010396   \n",
              "x7   0.007028 -0.002181  0.083424  0.015674  0.035278 -0.010396  1.000000   \n",
              "x8  -0.061923 -0.088234  0.072007  0.609863  0.307046  0.056591  0.015088   \n",
              "x9  -0.273688 -0.016985 -0.109642 -0.011177 -0.138469 -0.075970 -0.011651   \n",
              "x10 -0.021781  0.994678 -0.124793  0.098052  0.063186  0.133547 -0.002104   \n",
              "x11  0.084399  0.110525  0.105506  1.000000  0.403602  0.172324  0.015674   \n",
              "x12  0.245460  0.033097  0.147461  0.540861  0.829932  0.265292  0.029508   \n",
              "x13 -0.427241 -0.017949 -0.179693  0.016964 -0.209881 -0.109610 -0.018305   \n",
              "x14 -0.017460 -0.027835  0.086320  0.144854 -0.035069  0.048468 -0.027569   \n",
              "x15 -0.107098  0.037919 -0.066247 -0.435505 -0.450202 -0.343723 -0.023313   \n",
              "\n",
              "           x8        x9       x10       x11       x12       x13       x14  \\\n",
              "x1  -0.061923 -0.273688 -0.021781  0.084399  0.245460 -0.427241 -0.017460   \n",
              "x2  -0.088234 -0.016985  0.994678  0.110525  0.033097 -0.017949 -0.027835   \n",
              "x3   0.072007 -0.109642 -0.124793  0.105506  0.147461 -0.179693  0.086320   \n",
              "x4   0.609863 -0.011177  0.098052  1.000000  0.540861  0.016964  0.144854   \n",
              "x5   0.307046 -0.138469  0.063186  0.403602  0.829932 -0.209881 -0.035069   \n",
              "x6   0.056591 -0.075970  0.133547  0.172324  0.265292 -0.109610  0.048468   \n",
              "x7   0.015088 -0.011651 -0.002104  0.015674  0.029508 -0.018305 -0.027569   \n",
              "x8   1.000000  0.001767 -0.112470  0.609863  0.298578  0.016160  0.061829   \n",
              "x9   0.001767  1.000000 -0.022763 -0.011177 -0.072031  0.608518  0.129525   \n",
              "x10 -0.112470 -0.022763  1.000000  0.098052  0.033156 -0.028520 -0.030968   \n",
              "x11  0.609863 -0.011177  0.098052  1.000000  0.540861  0.016964  0.144854   \n",
              "x12  0.298578 -0.072031  0.033156  0.540861  1.000000 -0.102362  0.078747   \n",
              "x13  0.016160  0.608518 -0.028520  0.016964 -0.102362  1.000000  0.165357   \n",
              "x14  0.061829  0.129525 -0.030968  0.144854  0.078747  0.165357  1.000000   \n",
              "x15 -0.226551  0.068807  0.036284 -0.435505 -0.788921  0.119807 -0.042796   \n",
              "\n",
              "          x15  \n",
              "x1  -0.107098  \n",
              "x2   0.037919  \n",
              "x3  -0.066247  \n",
              "x4  -0.435505  \n",
              "x5  -0.450202  \n",
              "x6  -0.343723  \n",
              "x7  -0.023313  \n",
              "x8  -0.226551  \n",
              "x9   0.068807  \n",
              "x10  0.036284  \n",
              "x11 -0.435505  \n",
              "x12 -0.788921  \n",
              "x13  0.119807  \n",
              "x14 -0.042796  \n",
              "x15  1.000000  "
            ],
            "text/html": [
              "\n",
              "  <div id=\"df-f3d3ca6c-f509-4443-a9a8-e26d907501c0\">\n",
              "    <div class=\"colab-df-container\">\n",
              "      <div>\n",
              "<style scoped>\n",
              "    .dataframe tbody tr th:only-of-type {\n",
              "        vertical-align: middle;\n",
              "    }\n",
              "\n",
              "    .dataframe tbody tr th {\n",
              "        vertical-align: top;\n",
              "    }\n",
              "\n",
              "    .dataframe thead th {\n",
              "        text-align: right;\n",
              "    }\n",
              "</style>\n",
              "<table border=\"1\" class=\"dataframe\">\n",
              "  <thead>\n",
              "    <tr style=\"text-align: right;\">\n",
              "      <th></th>\n",
              "      <th>x1</th>\n",
              "      <th>x2</th>\n",
              "      <th>x3</th>\n",
              "      <th>x4</th>\n",
              "      <th>x5</th>\n",
              "      <th>x6</th>\n",
              "      <th>x7</th>\n",
              "      <th>x8</th>\n",
              "      <th>x9</th>\n",
              "      <th>x10</th>\n",
              "      <th>x11</th>\n",
              "      <th>x12</th>\n",
              "      <th>x13</th>\n",
              "      <th>x14</th>\n",
              "      <th>x15</th>\n",
              "    </tr>\n",
              "  </thead>\n",
              "  <tbody>\n",
              "    <tr>\n",
              "      <th>x1</th>\n",
              "      <td>1.000000</td>\n",
              "      <td>-0.026195</td>\n",
              "      <td>0.310847</td>\n",
              "      <td>0.084399</td>\n",
              "      <td>0.067013</td>\n",
              "      <td>0.042116</td>\n",
              "      <td>0.007028</td>\n",
              "      <td>-0.061923</td>\n",
              "      <td>-0.273688</td>\n",
              "      <td>-0.021781</td>\n",
              "      <td>0.084399</td>\n",
              "      <td>0.245460</td>\n",
              "      <td>-0.427241</td>\n",
              "      <td>-0.017460</td>\n",
              "      <td>-0.107098</td>\n",
              "    </tr>\n",
              "    <tr>\n",
              "      <th>x2</th>\n",
              "      <td>-0.026195</td>\n",
              "      <td>1.000000</td>\n",
              "      <td>-0.128227</td>\n",
              "      <td>0.110525</td>\n",
              "      <td>0.062203</td>\n",
              "      <td>0.132987</td>\n",
              "      <td>-0.002181</td>\n",
              "      <td>-0.088234</td>\n",
              "      <td>-0.016985</td>\n",
              "      <td>0.994678</td>\n",
              "      <td>0.110525</td>\n",
              "      <td>0.033097</td>\n",
              "      <td>-0.017949</td>\n",
              "      <td>-0.027835</td>\n",
              "      <td>0.037919</td>\n",
              "    </tr>\n",
              "    <tr>\n",
              "      <th>x3</th>\n",
              "      <td>0.310847</td>\n",
              "      <td>-0.128227</td>\n",
              "      <td>1.000000</td>\n",
              "      <td>0.105506</td>\n",
              "      <td>0.100570</td>\n",
              "      <td>0.102909</td>\n",
              "      <td>0.083424</td>\n",
              "      <td>0.072007</td>\n",
              "      <td>-0.109642</td>\n",
              "      <td>-0.124793</td>\n",
              "      <td>0.105506</td>\n",
              "      <td>0.147461</td>\n",
              "      <td>-0.179693</td>\n",
              "      <td>0.086320</td>\n",
              "      <td>-0.066247</td>\n",
              "    </tr>\n",
              "    <tr>\n",
              "      <th>x4</th>\n",
              "      <td>0.084399</td>\n",
              "      <td>0.110525</td>\n",
              "      <td>0.105506</td>\n",
              "      <td>1.000000</td>\n",
              "      <td>0.403602</td>\n",
              "      <td>0.172324</td>\n",
              "      <td>0.015674</td>\n",
              "      <td>0.609863</td>\n",
              "      <td>-0.011177</td>\n",
              "      <td>0.098052</td>\n",
              "      <td>1.000000</td>\n",
              "      <td>0.540861</td>\n",
              "      <td>0.016964</td>\n",
              "      <td>0.144854</td>\n",
              "      <td>-0.435505</td>\n",
              "    </tr>\n",
              "    <tr>\n",
              "      <th>x5</th>\n",
              "      <td>0.067013</td>\n",
              "      <td>0.062203</td>\n",
              "      <td>0.100570</td>\n",
              "      <td>0.403602</td>\n",
              "      <td>1.000000</td>\n",
              "      <td>0.104234</td>\n",
              "      <td>0.035278</td>\n",
              "      <td>0.307046</td>\n",
              "      <td>-0.138469</td>\n",
              "      <td>0.063186</td>\n",
              "      <td>0.403602</td>\n",
              "      <td>0.829932</td>\n",
              "      <td>-0.209881</td>\n",
              "      <td>-0.035069</td>\n",
              "      <td>-0.450202</td>\n",
              "    </tr>\n",
              "    <tr>\n",
              "      <th>x6</th>\n",
              "      <td>0.042116</td>\n",
              "      <td>0.132987</td>\n",
              "      <td>0.102909</td>\n",
              "      <td>0.172324</td>\n",
              "      <td>0.104234</td>\n",
              "      <td>1.000000</td>\n",
              "      <td>-0.010396</td>\n",
              "      <td>0.056591</td>\n",
              "      <td>-0.075970</td>\n",
              "      <td>0.133547</td>\n",
              "      <td>0.172324</td>\n",
              "      <td>0.265292</td>\n",
              "      <td>-0.109610</td>\n",
              "      <td>0.048468</td>\n",
              "      <td>-0.343723</td>\n",
              "    </tr>\n",
              "    <tr>\n",
              "      <th>x7</th>\n",
              "      <td>0.007028</td>\n",
              "      <td>-0.002181</td>\n",
              "      <td>0.083424</td>\n",
              "      <td>0.015674</td>\n",
              "      <td>0.035278</td>\n",
              "      <td>-0.010396</td>\n",
              "      <td>1.000000</td>\n",
              "      <td>0.015088</td>\n",
              "      <td>-0.011651</td>\n",
              "      <td>-0.002104</td>\n",
              "      <td>0.015674</td>\n",
              "      <td>0.029508</td>\n",
              "      <td>-0.018305</td>\n",
              "      <td>-0.027569</td>\n",
              "      <td>-0.023313</td>\n",
              "    </tr>\n",
              "    <tr>\n",
              "      <th>x8</th>\n",
              "      <td>-0.061923</td>\n",
              "      <td>-0.088234</td>\n",
              "      <td>0.072007</td>\n",
              "      <td>0.609863</td>\n",
              "      <td>0.307046</td>\n",
              "      <td>0.056591</td>\n",
              "      <td>0.015088</td>\n",
              "      <td>1.000000</td>\n",
              "      <td>0.001767</td>\n",
              "      <td>-0.112470</td>\n",
              "      <td>0.609863</td>\n",
              "      <td>0.298578</td>\n",
              "      <td>0.016160</td>\n",
              "      <td>0.061829</td>\n",
              "      <td>-0.226551</td>\n",
              "    </tr>\n",
              "    <tr>\n",
              "      <th>x9</th>\n",
              "      <td>-0.273688</td>\n",
              "      <td>-0.016985</td>\n",
              "      <td>-0.109642</td>\n",
              "      <td>-0.011177</td>\n",
              "      <td>-0.138469</td>\n",
              "      <td>-0.075970</td>\n",
              "      <td>-0.011651</td>\n",
              "      <td>0.001767</td>\n",
              "      <td>1.000000</td>\n",
              "      <td>-0.022763</td>\n",
              "      <td>-0.011177</td>\n",
              "      <td>-0.072031</td>\n",
              "      <td>0.608518</td>\n",
              "      <td>0.129525</td>\n",
              "      <td>0.068807</td>\n",
              "    </tr>\n",
              "    <tr>\n",
              "      <th>x10</th>\n",
              "      <td>-0.021781</td>\n",
              "      <td>0.994678</td>\n",
              "      <td>-0.124793</td>\n",
              "      <td>0.098052</td>\n",
              "      <td>0.063186</td>\n",
              "      <td>0.133547</td>\n",
              "      <td>-0.002104</td>\n",
              "      <td>-0.112470</td>\n",
              "      <td>-0.022763</td>\n",
              "      <td>1.000000</td>\n",
              "      <td>0.098052</td>\n",
              "      <td>0.033156</td>\n",
              "      <td>-0.028520</td>\n",
              "      <td>-0.030968</td>\n",
              "      <td>0.036284</td>\n",
              "    </tr>\n",
              "    <tr>\n",
              "      <th>x11</th>\n",
              "      <td>0.084399</td>\n",
              "      <td>0.110525</td>\n",
              "      <td>0.105506</td>\n",
              "      <td>1.000000</td>\n",
              "      <td>0.403602</td>\n",
              "      <td>0.172324</td>\n",
              "      <td>0.015674</td>\n",
              "      <td>0.609863</td>\n",
              "      <td>-0.011177</td>\n",
              "      <td>0.098052</td>\n",
              "      <td>1.000000</td>\n",
              "      <td>0.540861</td>\n",
              "      <td>0.016964</td>\n",
              "      <td>0.144854</td>\n",
              "      <td>-0.435505</td>\n",
              "    </tr>\n",
              "    <tr>\n",
              "      <th>x12</th>\n",
              "      <td>0.245460</td>\n",
              "      <td>0.033097</td>\n",
              "      <td>0.147461</td>\n",
              "      <td>0.540861</td>\n",
              "      <td>0.829932</td>\n",
              "      <td>0.265292</td>\n",
              "      <td>0.029508</td>\n",
              "      <td>0.298578</td>\n",
              "      <td>-0.072031</td>\n",
              "      <td>0.033156</td>\n",
              "      <td>0.540861</td>\n",
              "      <td>1.000000</td>\n",
              "      <td>-0.102362</td>\n",
              "      <td>0.078747</td>\n",
              "      <td>-0.788921</td>\n",
              "    </tr>\n",
              "    <tr>\n",
              "      <th>x13</th>\n",
              "      <td>-0.427241</td>\n",
              "      <td>-0.017949</td>\n",
              "      <td>-0.179693</td>\n",
              "      <td>0.016964</td>\n",
              "      <td>-0.209881</td>\n",
              "      <td>-0.109610</td>\n",
              "      <td>-0.018305</td>\n",
              "      <td>0.016160</td>\n",
              "      <td>0.608518</td>\n",
              "      <td>-0.028520</td>\n",
              "      <td>0.016964</td>\n",
              "      <td>-0.102362</td>\n",
              "      <td>1.000000</td>\n",
              "      <td>0.165357</td>\n",
              "      <td>0.119807</td>\n",
              "    </tr>\n",
              "    <tr>\n",
              "      <th>x14</th>\n",
              "      <td>-0.017460</td>\n",
              "      <td>-0.027835</td>\n",
              "      <td>0.086320</td>\n",
              "      <td>0.144854</td>\n",
              "      <td>-0.035069</td>\n",
              "      <td>0.048468</td>\n",
              "      <td>-0.027569</td>\n",
              "      <td>0.061829</td>\n",
              "      <td>0.129525</td>\n",
              "      <td>-0.030968</td>\n",
              "      <td>0.144854</td>\n",
              "      <td>0.078747</td>\n",
              "      <td>0.165357</td>\n",
              "      <td>1.000000</td>\n",
              "      <td>-0.042796</td>\n",
              "    </tr>\n",
              "    <tr>\n",
              "      <th>x15</th>\n",
              "      <td>-0.107098</td>\n",
              "      <td>0.037919</td>\n",
              "      <td>-0.066247</td>\n",
              "      <td>-0.435505</td>\n",
              "      <td>-0.450202</td>\n",
              "      <td>-0.343723</td>\n",
              "      <td>-0.023313</td>\n",
              "      <td>-0.226551</td>\n",
              "      <td>0.068807</td>\n",
              "      <td>0.036284</td>\n",
              "      <td>-0.435505</td>\n",
              "      <td>-0.788921</td>\n",
              "      <td>0.119807</td>\n",
              "      <td>-0.042796</td>\n",
              "      <td>1.000000</td>\n",
              "    </tr>\n",
              "  </tbody>\n",
              "</table>\n",
              "</div>\n",
              "      <button class=\"colab-df-convert\" onclick=\"convertToInteractive('df-f3d3ca6c-f509-4443-a9a8-e26d907501c0')\"\n",
              "              title=\"Convert this dataframe to an interactive table.\"\n",
              "              style=\"display:none;\">\n",
              "        \n",
              "  <svg xmlns=\"http://www.w3.org/2000/svg\" height=\"24px\"viewBox=\"0 0 24 24\"\n",
              "       width=\"24px\">\n",
              "    <path d=\"M0 0h24v24H0V0z\" fill=\"none\"/>\n",
              "    <path d=\"M18.56 5.44l.94 2.06.94-2.06 2.06-.94-2.06-.94-.94-2.06-.94 2.06-2.06.94zm-11 1L8.5 8.5l.94-2.06 2.06-.94-2.06-.94L8.5 2.5l-.94 2.06-2.06.94zm10 10l.94 2.06.94-2.06 2.06-.94-2.06-.94-.94-2.06-.94 2.06-2.06.94z\"/><path d=\"M17.41 7.96l-1.37-1.37c-.4-.4-.92-.59-1.43-.59-.52 0-1.04.2-1.43.59L10.3 9.45l-7.72 7.72c-.78.78-.78 2.05 0 2.83L4 21.41c.39.39.9.59 1.41.59.51 0 1.02-.2 1.41-.59l7.78-7.78 2.81-2.81c.8-.78.8-2.07 0-2.86zM5.41 20L4 18.59l7.72-7.72 1.47 1.35L5.41 20z\"/>\n",
              "  </svg>\n",
              "      </button>\n",
              "      \n",
              "  <style>\n",
              "    .colab-df-container {\n",
              "      display:flex;\n",
              "      flex-wrap:wrap;\n",
              "      gap: 12px;\n",
              "    }\n",
              "\n",
              "    .colab-df-convert {\n",
              "      background-color: #E8F0FE;\n",
              "      border: none;\n",
              "      border-radius: 50%;\n",
              "      cursor: pointer;\n",
              "      display: none;\n",
              "      fill: #1967D2;\n",
              "      height: 32px;\n",
              "      padding: 0 0 0 0;\n",
              "      width: 32px;\n",
              "    }\n",
              "\n",
              "    .colab-df-convert:hover {\n",
              "      background-color: #E2EBFA;\n",
              "      box-shadow: 0px 1px 2px rgba(60, 64, 67, 0.3), 0px 1px 3px 1px rgba(60, 64, 67, 0.15);\n",
              "      fill: #174EA6;\n",
              "    }\n",
              "\n",
              "    [theme=dark] .colab-df-convert {\n",
              "      background-color: #3B4455;\n",
              "      fill: #D2E3FC;\n",
              "    }\n",
              "\n",
              "    [theme=dark] .colab-df-convert:hover {\n",
              "      background-color: #434B5C;\n",
              "      box-shadow: 0px 1px 3px 1px rgba(0, 0, 0, 0.15);\n",
              "      filter: drop-shadow(0px 1px 2px rgba(0, 0, 0, 0.3));\n",
              "      fill: #FFFFFF;\n",
              "    }\n",
              "  </style>\n",
              "\n",
              "      <script>\n",
              "        const buttonEl =\n",
              "          document.querySelector('#df-f3d3ca6c-f509-4443-a9a8-e26d907501c0 button.colab-df-convert');\n",
              "        buttonEl.style.display =\n",
              "          google.colab.kernel.accessAllowed ? 'block' : 'none';\n",
              "\n",
              "        async function convertToInteractive(key) {\n",
              "          const element = document.querySelector('#df-f3d3ca6c-f509-4443-a9a8-e26d907501c0');\n",
              "          const dataTable =\n",
              "            await google.colab.kernel.invokeFunction('convertToInteractive',\n",
              "                                                     [key], {});\n",
              "          if (!dataTable) return;\n",
              "\n",
              "          const docLinkHtml = 'Like what you see? Visit the ' +\n",
              "            '<a target=\"_blank\" href=https://colab.research.google.com/notebooks/data_table.ipynb>data table notebook</a>'\n",
              "            + ' to learn more about interactive tables.';\n",
              "          element.innerHTML = '';\n",
              "          dataTable['output_type'] = 'display_data';\n",
              "          await google.colab.output.renderOutput(dataTable, element);\n",
              "          const docLink = document.createElement('div');\n",
              "          docLink.innerHTML = docLinkHtml;\n",
              "          element.appendChild(docLink);\n",
              "        }\n",
              "      </script>\n",
              "    </div>\n",
              "  </div>\n",
              "  "
            ]
          },
          "metadata": {},
          "execution_count": 126
        }
      ]
    },
    {
      "cell_type": "code",
      "source": [
        "import seaborn as sns\n",
        "sns.lmplot(x='x4' , y='x11', data=df1_x, scatter_kws={\"edgecolor\": 'w'},height=3,line_kws={\"color\": 'yellow'});\n",
        "\n",
        "sns.lmplot(x='x9' , y='x13', data=df1_x, scatter_kws={\"edgecolor\": 'w'},height=3,line_kws={\"color\": 'green'});\n",
        "sns.lmplot(x='x2' , y='x10', data=df1_x, scatter_kws={\"edgecolor\": 'w'},height=3,line_kws={\"color\": 'black'});\n",
        "\n",
        "sns.lmplot(x='x5' , y='x12', data=df1_x, scatter_kws={\"edgecolor\": 'w'},height=3,line_kws={\"color\": 'red'});"
      ],
      "metadata": {
        "colab": {
          "base_uri": "https://localhost:8080/",
          "height": 1000
        },
        "id": "OvyR73-7BL8x",
        "outputId": "4791a88b-ac7d-448a-9261-cc82fa2c91c4"
      },
      "id": "OvyR73-7BL8x",
      "execution_count": 127,
      "outputs": [
        {
          "output_type": "display_data",
          "data": {
            "text/plain": [
              "<Figure size 300x300 with 1 Axes>"
            ],
            "image/png": "[encoded data removed]"
          },
          "metadata": {}
        },
        {
          "output_type": "display_data",
          "data": {
            "text/plain": [
              "<Figure size 300x300 with 1 Axes>"
            ],
            "image/png": "[encoded data removed]"
          },
          "metadata": {}
        },
        {
          "output_type": "display_data",
          "data": {
            "text/plain": [
              "<Figure size 300x300 with 1 Axes>"
            ],
            "image/png": "[encoded data removed]"
          },
          "metadata": {}
        },
        {
          "output_type": "display_data",
          "data": {
            "text/plain": [
              "<Figure size 300x300 with 1 Axes>"
            ],
            "image/png": "[encoded data removed]"
          },
          "metadata": {}
        }
      ]
    },
    {
      "cell_type": "markdown",
      "source": [
        "There are higly corelated feutures..lets remove them"
      ],
      "metadata": {
        "id": "mYWeplbqIRla"
      },
      "id": "mYWeplbqIRla"
    },
    {
      "cell_type": "code",
      "source": [
        "df2_x = df2_x.drop(columns=[\"x9\",\"x2\",\"x11\",\"x10\"])\n",
        "df1_x = df1_x.drop(columns=[\"x9\",\"x2\",\"x11\",\"x10\"])\n",
        "df1_x.head()"
      ],
      "metadata": {
        "colab": {
          "base_uri": "https://localhost:8080/",
          "height": 206
        },
        "id": "JX4XnnE3Ia7E",
        "outputId": "7d5b2ca5-75da-436b-cc4c-6b21be53fa40"
      },
      "id": "JX4XnnE3Ia7E",
      "execution_count": 128,
      "outputs": [
        {
          "output_type": "execute_result",
          "data": {
            "text/plain": [
              "    x1    x3    x4   x5     x6        x7    x8      x12   x13   x14   x15\n",
              "0  5.2  0.37  66.5  6.2  0.031  0.995369  42.0  0.99076  3.25  0.41  12.5\n",
              "1  6.1  0.00  43.5  1.6  0.063  0.995691  36.0  0.99140  3.27  0.67  10.8\n",
              "2  7.5  0.30  46.0  4.6  0.027  0.995414  29.0  0.99085  3.15  0.38  12.0\n",
              "3  7.4  0.29  50.0  1.7  0.047  0.996208  16.0  0.99243  3.28  0.45  10.6\n",
              "4  7.3  0.24  43.0  0.9  0.031  0.994616  29.0  0.98926  2.90  0.38  12.2"
            ],
            "text/html": [
              "\n",
              "  <div id=\"df-83bb7c05-1426-4646-877d-20184c0906cd\">\n",
              "    <div class=\"colab-df-container\">\n",
              "      <div>\n",
              "<style scoped>\n",
              "    .dataframe tbody tr th:only-of-type {\n",
              "        vertical-align: middle;\n",
              "    }\n",
              "\n",
              "    .dataframe tbody tr th {\n",
              "        vertical-align: top;\n",
              "    }\n",
              "\n",
              "    .dataframe thead th {\n",
              "        text-align: right;\n",
              "    }\n",
              "</style>\n",
              "<table border=\"1\" class=\"dataframe\">\n",
              "  <thead>\n",
              "    <tr style=\"text-align: right;\">\n",
              "      <th></th>\n",
              "      <th>x1</th>\n",
              "      <th>x3</th>\n",
              "      <th>x4</th>\n",
              "      <th>x5</th>\n",
              "      <th>x6</th>\n",
              "      <th>x7</th>\n",
              "      <th>x8</th>\n",
              "      <th>x12</th>\n",
              "      <th>x13</th>\n",
              "      <th>x14</th>\n",
              "      <th>x15</th>\n",
              "    </tr>\n",
              "  </thead>\n",
              "  <tbody>\n",
              "    <tr>\n",
              "      <th>0</th>\n",
              "      <td>5.2</td>\n",
              "      <td>0.37</td>\n",
              "      <td>66.5</td>\n",
              "      <td>6.2</td>\n",
              "      <td>0.031</td>\n",
              "      <td>0.995369</td>\n",
              "      <td>42.0</td>\n",
              "      <td>0.99076</td>\n",
              "      <td>3.25</td>\n",
              "      <td>0.41</td>\n",
              "      <td>12.5</td>\n",
              "    </tr>\n",
              "    <tr>\n",
              "      <th>1</th>\n",
              "      <td>6.1</td>\n",
              "      <td>0.00</td>\n",
              "      <td>43.5</td>\n",
              "      <td>1.6</td>\n",
              "      <td>0.063</td>\n",
              "      <td>0.995691</td>\n",
              "      <td>36.0</td>\n",
              "      <td>0.99140</td>\n",
              "      <td>3.27</td>\n",
              "      <td>0.67</td>\n",
              "      <td>10.8</td>\n",
              "    </tr>\n",
              "    <tr>\n",
              "      <th>2</th>\n",
              "      <td>7.5</td>\n",
              "      <td>0.30</td>\n",
              "      <td>46.0</td>\n",
              "      <td>4.6</td>\n",
              "      <td>0.027</td>\n",
              "      <td>0.995414</td>\n",
              "      <td>29.0</td>\n",
              "      <td>0.99085</td>\n",
              "      <td>3.15</td>\n",
              "      <td>0.38</td>\n",
              "      <td>12.0</td>\n",
              "    </tr>\n",
              "    <tr>\n",
              "      <th>3</th>\n",
              "      <td>7.4</td>\n",
              "      <td>0.29</td>\n",
              "      <td>50.0</td>\n",
              "      <td>1.7</td>\n",
              "      <td>0.047</td>\n",
              "      <td>0.996208</td>\n",
              "      <td>16.0</td>\n",
              "      <td>0.99243</td>\n",
              "      <td>3.28</td>\n",
              "      <td>0.45</td>\n",
              "      <td>10.6</td>\n",
              "    </tr>\n",
              "    <tr>\n",
              "      <th>4</th>\n",
              "      <td>7.3</td>\n",
              "      <td>0.24</td>\n",
              "      <td>43.0</td>\n",
              "      <td>0.9</td>\n",
              "      <td>0.031</td>\n",
              "      <td>0.994616</td>\n",
              "      <td>29.0</td>\n",
              "      <td>0.98926</td>\n",
              "      <td>2.90</td>\n",
              "      <td>0.38</td>\n",
              "      <td>12.2</td>\n",
              "    </tr>\n",
              "  </tbody>\n",
              "</table>\n",
              "</div>\n",
              "      <button class=\"colab-df-convert\" onclick=\"convertToInteractive('df-83bb7c05-1426-4646-877d-20184c0906cd')\"\n",
              "              title=\"Convert this dataframe to an interactive table.\"\n",
              "              style=\"display:none;\">\n",
              "        \n",
              "  <svg xmlns=\"http://www.w3.org/2000/svg\" height=\"24px\"viewBox=\"0 0 24 24\"\n",
              "       width=\"24px\">\n",
              "    <path d=\"M0 0h24v24H0V0z\" fill=\"none\"/>\n",
              "    <path d=\"M18.56 5.44l.94 2.06.94-2.06 2.06-.94-2.06-.94-.94-2.06-.94 2.06-2.06.94zm-11 1L8.5 8.5l.94-2.06 2.06-.94-2.06-.94L8.5 2.5l-.94 2.06-2.06.94zm10 10l.94 2.06.94-2.06 2.06-.94-2.06-.94-.94-2.06-.94 2.06-2.06.94z\"/><path d=\"M17.41 7.96l-1.37-1.37c-.4-.4-.92-.59-1.43-.59-.52 0-1.04.2-1.43.59L10.3 9.45l-7.72 7.72c-.78.78-.78 2.05 0 2.83L4 21.41c.39.39.9.59 1.41.59.51 0 1.02-.2 1.41-.59l7.78-7.78 2.81-2.81c.8-.78.8-2.07 0-2.86zM5.41 20L4 18.59l7.72-7.72 1.47 1.35L5.41 20z\"/>\n",
              "  </svg>\n",
              "      </button>\n",
              "      \n",
              "  <style>\n",
              "    .colab-df-container {\n",
              "      display:flex;\n",
              "      flex-wrap:wrap;\n",
              "      gap: 12px;\n",
              "    }\n",
              "\n",
              "    .colab-df-convert {\n",
              "      background-color: #E8F0FE;\n",
              "      border: none;\n",
              "      border-radius: 50%;\n",
              "      cursor: pointer;\n",
              "      display: none;\n",
              "      fill: #1967D2;\n",
              "      height: 32px;\n",
              "      padding: 0 0 0 0;\n",
              "      width: 32px;\n",
              "    }\n",
              "\n",
              "    .colab-df-convert:hover {\n",
              "      background-color: #E2EBFA;\n",
              "      box-shadow: 0px 1px 2px rgba(60, 64, 67, 0.3), 0px 1px 3px 1px rgba(60, 64, 67, 0.15);\n",
              "      fill: #174EA6;\n",
              "    }\n",
              "\n",
              "    [theme=dark] .colab-df-convert {\n",
              "      background-color: #3B4455;\n",
              "      fill: #D2E3FC;\n",
              "    }\n",
              "\n",
              "    [theme=dark] .colab-df-convert:hover {\n",
              "      background-color: #434B5C;\n",
              "      box-shadow: 0px 1px 3px 1px rgba(0, 0, 0, 0.15);\n",
              "      filter: drop-shadow(0px 1px 2px rgba(0, 0, 0, 0.3));\n",
              "      fill: #FFFFFF;\n",
              "    }\n",
              "  </style>\n",
              "\n",
              "      <script>\n",
              "        const buttonEl =\n",
              "          document.querySelector('#df-83bb7c05-1426-4646-877d-20184c0906cd button.colab-df-convert');\n",
              "        buttonEl.style.display =\n",
              "          google.colab.kernel.accessAllowed ? 'block' : 'none';\n",
              "\n",
              "        async function convertToInteractive(key) {\n",
              "          const element = document.querySelector('#df-83bb7c05-1426-4646-877d-20184c0906cd');\n",
              "          const dataTable =\n",
              "            await google.colab.kernel.invokeFunction('convertToInteractive',\n",
              "                                                     [key], {});\n",
              "          if (!dataTable) return;\n",
              "\n",
              "          const docLinkHtml = 'Like what you see? Visit the ' +\n",
              "            '<a target=\"_blank\" href=https://colab.research.google.com/notebooks/data_table.ipynb>data table notebook</a>'\n",
              "            + ' to learn more about interactive tables.';\n",
              "          element.innerHTML = '';\n",
              "          dataTable['output_type'] = 'display_data';\n",
              "          await google.colab.output.renderOutput(dataTable, element);\n",
              "          const docLink = document.createElement('div');\n",
              "          docLink.innerHTML = docLinkHtml;\n",
              "          element.appendChild(docLink);\n",
              "        }\n",
              "      </script>\n",
              "    </div>\n",
              "  </div>\n",
              "  "
            ]
          },
          "metadata": {},
          "execution_count": 128
        }
      ]
    },
    {
      "cell_type": "markdown",
      "source": [
        "Distribution of the data"
      ],
      "metadata": {
        "id": "yy1lmZ8oTQZi"
      },
      "id": "yy1lmZ8oTQZi"
    },
    {
      "cell_type": "code",
      "source": [
        "for feature in df1_x:\n",
        "  sns.histplot(df1[feature])\n",
        "  plt.show()\n",
        "sns.histplot(df1_y)\n",
        "plt.show()"
      ],
      "metadata": {
        "colab": {
          "base_uri": "https://localhost:8080/",
          "height": 1000
        },
        "id": "M6BN6_5SMkzC",
        "outputId": "020bee8e-a41f-43e7-ff82-90f8742926aa"
      },
      "id": "M6BN6_5SMkzC",
      "execution_count": 129,
      "outputs": [
        {
          "output_type": "display_data",
          "data": {
            "text/plain": [
              "<Figure size 640x480 with 1 Axes>"
            ],
            "image/png": "[encoded data removed]"
          },
          "metadata": {}
        },
        {
          "output_type": "display_data",
          "data": {
            "text/plain": [
              "<Figure size 640x480 with 1 Axes>"
            ],
            "image/png": "[encoded data removed]"
          },
          "metadata": {}
        },
        {
          "output_type": "display_data",
          "data": {
            "text/plain": [
              "<Figure size 640x480 with 1 Axes>"
            ],
            "image/png": "[encoded data removed]"
          },
          "metadata": {}
        },
        {
          "output_type": "display_data",
          "data": {
            "text/plain": [
              "<Figure size 640x480 with 1 Axes>"
            ],
            "image/png": "[encoded data removed]"
          },
          "metadata": {}
        },
        {
          "output_type": "display_data",
          "data": {
            "text/plain": [
              "<Figure size 640x480 with 1 Axes>"
            ],
            "image/png": "[encoded data removed]"
          },
          "metadata": {}
        },
        {
          "output_type": "display_data",
          "data": {
            "text/plain": [
              "<Figure size 640x480 with 1 Axes>"
            ],
            "image/png": "[encoded data removed]"
          },
          "metadata": {}
        },
        {
          "output_type": "display_data",
          "data": {
            "text/plain": [
              "<Figure size 640x480 with 1 Axes>"
            ],
            "image/png": "[encoded data removed]"
          },
          "metadata": {}
        },
        {
          "output_type": "display_data",
          "data": {
            "text/plain": [
              "<Figure size 640x480 with 1 Axes>"
            ],
            "image/png": "[encoded data removed]"
          },
          "metadata": {}
        },
        {
          "output_type": "display_data",
          "data": {
            "text/plain": [
              "<Figure size 640x480 with 1 Axes>"
            ],
            "image/png": "[encoded data removed]"
          },
          "metadata": {}
        },
        {
          "output_type": "display_data",
          "data": {
            "text/plain": [
              "<Figure size 640x480 with 1 Axes>"
            ],
            "image/png": "[encoded data removed]"
          },
          "metadata": {}
        },
        {
          "output_type": "display_data",
          "data": {
            "text/plain": [
              "<Figure size 640x480 with 1 Axes>"
            ],
            "image/png": "[encoded data removed]"
          },
          "metadata": {}
        },
        {
          "output_type": "display_data",
          "data": {
            "text/plain": [
              "<Figure size 640x480 with 1 Axes>"
            ],
            "image/png": "[encoded data removed]"
          },
          "metadata": {}
        }
      ]
    },
    {
      "cell_type": "code",
      "source": [
        "mutualinfo_scores = mutual_info_regression(df1_x,df1_y)\n",
        "mutualinfo_scores = pd.Series(mutualinfo_scores, name=\"MI Scores\", index=df1_x.columns)\n",
        "mutualinfo_scores = mutualinfo_scores.sort_values(ascending=False)\n",
        "mutualinfo_scores"
      ],
      "metadata": {
        "colab": {
          "base_uri": "https://localhost:8080/"
        },
        "id": "yBZgpSNvGEYW",
        "outputId": "fb1246c1-7b7e-4074-f4b6-f1baa6b47a61"
      },
      "id": "yBZgpSNvGEYW",
      "execution_count": 130,
      "outputs": [
        {
          "output_type": "execute_result",
          "data": {
            "text/plain": [
              "x12    0.167868\n",
              "x7     0.166685\n",
              "x15    0.152935\n",
              "x4     0.098214\n",
              "x5     0.077342\n",
              "x8     0.070396\n",
              "x6     0.069566\n",
              "x3     0.048271\n",
              "x1     0.028854\n",
              "x14    0.020550\n",
              "x13    0.012969\n",
              "Name: MI Scores, dtype: float64"
            ]
          },
          "metadata": {},
          "execution_count": 130
        }
      ]
    },
    {
      "cell_type": "code",
      "source": [
        "def plot_Mutualinfo_scores(score):\n",
        "    score = score.sort_values(ascending=True)\n",
        "    width = np.arange(len(score))\n",
        "    ticks = list(score.index)\n",
        "    plt.barh(width, score)\n",
        "    plt.yticks(width, ticks)\n",
        "    plt.title(\"Mutual Information Scores\")\n",
        "\n",
        "\n",
        "plt.figure(dpi=100, figsize=(10, 7))\n",
        "plot_Mutualinfo_scores(mutualinfo_scores)"
      ],
      "metadata": {
        "colab": {
          "base_uri": "https://localhost:8080/",
          "height": 622
        },
        "id": "kv2V0PkmHdAZ",
        "outputId": "436f790b-112d-42b3-8b65-a55fd85730c4"
      },
      "id": "kv2V0PkmHdAZ",
      "execution_count": 131,
      "outputs": [
        {
          "output_type": "display_data",
          "data": {
            "text/plain": [
              "<Figure size 1000x700 with 1 Axes>"
            ],
            "image/png": "[encoded data removed]"
          },
          "metadata": {}
        }
      ]
    },
    {
      "cell_type": "code",
      "source": [
        "lr = LogisticRegression(max_iter=1000)\n",
        "lr.fit(df1_x,df1_y)\n",
        "df1_y_predict=lr.predict(df2_x)\n",
        "accuracy_score(df3,df1_y_predict)"
      ],
      "metadata": {
        "colab": {
          "base_uri": "https://localhost:8080/"
        },
        "id": "VI0JunbqKyBV",
        "outputId": "546068fb-49e4-49f2-e726-8dfdc13b9063"
      },
      "id": "VI0JunbqKyBV",
      "execution_count": 132,
      "outputs": [
        {
          "output_type": "stream",
          "name": "stderr",
          "text": [
            "/usr/local/lib/python3.9/dist-packages/sklearn/linear_model/_logistic.py:458: ConvergenceWarning: lbfgs failed to converge (status=1):\n",
            "STOP: TOTAL NO. of ITERATIONS REACHED LIMIT.\n",
            "\n",
            "Increase the number of iterations (max_iter) or scale the data as shown in:\n",
            "    https://scikit-learn.org/stable/modules/preprocessing.html\n",
            "Please also refer to the documentation for alternative solver options:\n",
            "    https://scikit-learn.org/stable/modules/linear_model.html#logistic-regression\n",
            "  n_iter_i = _check_optimize_result(\n"
          ]
        },
        {
          "output_type": "execute_result",
          "data": {
            "text/plain": [
              "0.40906307409675446"
            ]
          },
          "metadata": {},
          "execution_count": 132
        }
      ]
    },
    {
      "cell_type": "code",
      "source": [
        "y_predict=lr.predict(df2_x)"
      ],
      "metadata": {
        "id": "2RVLY_OEK81B"
      },
      "id": "2RVLY_OEK81B",
      "execution_count": 133,
      "outputs": []
    },
    {
      "cell_type": "code",
      "source": [
        "mse=mean_squared_error(df3,df1_y_predict)\n",
        "mse"
      ],
      "metadata": {
        "colab": {
          "base_uri": "https://localhost:8080/"
        },
        "id": "IEbR8PbMLEOx",
        "outputId": "776b8171-7aff-4322-9c68-612c0785aa61"
      },
      "id": "IEbR8PbMLEOx",
      "execution_count": 134,
      "outputs": [
        {
          "output_type": "execute_result",
          "data": {
            "text/plain": [
              "1.0777709736680956"
            ]
          },
          "metadata": {},
          "execution_count": 134
        }
      ]
    },
    {
      "cell_type": "code",
      "source": [
        "mseroot = np.sqrt(mse)\n",
        "mseroot"
      ],
      "metadata": {
        "colab": {
          "base_uri": "https://localhost:8080/"
        },
        "id": "T7PyvH2GLKUe",
        "outputId": "72634d46-bd3e-4303-8359-b44b8a0f1733"
      },
      "id": "T7PyvH2GLKUe",
      "execution_count": 135,
      "outputs": [
        {
          "output_type": "execute_result",
          "data": {
            "text/plain": [
              "1.0381574898193895"
            ]
          },
          "metadata": {},
          "execution_count": 135
        }
      ]
    }
  ],
  "metadata": {
    "kernelspec": {
      "display_name": "Python 3",
      "language": "python",
      "name": "python3"
    },
    "language_info": {
      "codemirror_mode": {
        "name": "ipython",
        "version": 3
      },
      "file_extension": ".py",
      "mimetype": "text/x-python",
      "name": "python",
      "nbconvert_exporter": "python",
      "pygments_lexer": "ipython3",
      "version": "3.8.11"
    },
    "colab": {
      "provenance": []
    }
  },
  "nbformat": 4,
  "nbformat_minor": 5
}